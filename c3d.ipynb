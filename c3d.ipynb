{
 "cells": [
  {
   "cell_type": "code",
   "execution_count": 1,
   "metadata": {},
   "outputs": [
    {
     "name": "stderr",
     "output_type": "stream",
     "text": [
      "Using TensorFlow backend.\n"
     ]
    }
   ],
   "source": [
    "from os.path import join\n",
    "import itertools\n",
    "import threading\n",
    "import gc\n",
    "\n",
    "import keras.backend as K\n",
    "import keras\n",
    "from keras.preprocessing.image import ImageDataGenerator\n",
    "from keras.callbacks import ModelCheckpoint\n",
    "from sklearn.metrics import mean_squared_error\n",
    "from keras.optimizers import Nadam, Adam\n",
    "\n",
    "import numpy as np\n",
    "import cv2\n",
    "\n",
    "def load_ground_truth():\n",
    "    with open(\"./data/train.txt\") as f:\n",
    "        ret = [float(l.strip()) for l in f.readlines()]\n",
    "    return ret\n",
    "\n",
    "y = np.array(load_ground_truth())"
   ]
  },
  {
   "cell_type": "code",
   "execution_count": 2,
   "metadata": {},
   "outputs": [],
   "source": [
    "from keras.layers.core import Dense, Dropout, Flatten\n",
    "from keras.layers import Conv3D, MaxPooling3D, ZeroPadding3D\n",
    "from keras.models import Sequential\n",
    "from keras.models import Model\n",
    "\n",
    "# from kerasmodelzoo.utils.data import download_file, load_np_data\n",
    "# https://github.com/albertomontesg/keras-model-zoo/blob/master/kerasmodelzoo/models/c3d.py\n",
    "# https://github.com/axon-research/c3d-keras/blob/master/test_model.py\n",
    "#_C3D_WEIGHTS_URL = 'https://www.dropbox.com/s/ypiwalgtlrtnw8b/c3d-sports1M_weights.h5?dl=1'\n",
    "\n",
    "\n",
    "'''\n",
    "dim_ordering issue:\n",
    "- 'th'-style dim_ordering: [batch, channels, depth, height, width]\n",
    "- 'tf'-style dim_ordering: [batch, depth, height, width, channels]\n",
    "'''\n",
    "\n",
    "def get_model(weight_file=None):\n",
    "    \"\"\" Return the Keras model of the network\n",
    "    \"\"\"\n",
    "    model = Sequential()\n",
    "    input_shape=(16, 112, 112, 3) # l, h, w, c\n",
    "    model.add(Conv3D(64, (3, 3, 3), activation='relu',\n",
    "                            padding='same', name='conv1',\n",
    "                            input_shape=input_shape))\n",
    "    model.add(MaxPooling3D(pool_size=(1, 2, 2), strides=(1, 2, 2),\n",
    "                           padding='valid', name='pool1'))\n",
    "    # 2nd layer group\n",
    "    model.add(Conv3D(128, (3, 3, 3), activation='relu',\n",
    "                            padding='same', name='conv2'))\n",
    "    model.add(MaxPooling3D(pool_size=(2, 2, 2), strides=(2, 2, 2),\n",
    "                           padding='valid', name='pool2'))\n",
    "    # 3rd layer group\n",
    "    model.add(Conv3D(256, (3, 3, 3), activation='relu',\n",
    "                            padding='same', name='conv3a'))\n",
    "    model.add(Conv3D(256, (3, 3, 3), activation='relu',\n",
    "                            padding='same', name='conv3b'))\n",
    "    model.add(MaxPooling3D(pool_size=(2, 2, 2), strides=(2, 2, 2),\n",
    "                           padding='valid', name='pool3'))\n",
    "    # 4th layer group\n",
    "    model.add(Conv3D(512, (3, 3, 3), activation='relu',\n",
    "                            padding='same', name='conv4a'))\n",
    "    model.add(Conv3D(512, (3, 3, 3), activation='relu',\n",
    "                            padding='same', name='conv4b'))\n",
    "    model.add(MaxPooling3D(pool_size=(2, 2, 2), strides=(2, 2, 2),\n",
    "                           padding='valid', name='pool4'))\n",
    "    # 5th layer group\n",
    "    model.add(Conv3D(512, (3, 3, 3), activation='relu',\n",
    "                            padding='same', name='conv5a'))\n",
    "    model.add(Conv3D(512, (3, 3, 3), activation='relu',\n",
    "                            padding='same', name='conv5b'))\n",
    "    model.add(ZeroPadding3D(padding=((0, 0), (0, 1), (0, 1)), name='zeropad5'))\n",
    "    model.add(MaxPooling3D(pool_size=(2, 2, 2), strides=(2, 2, 2),\n",
    "                           padding='valid', name='pool5'))\n",
    "    model.add(Flatten())\n",
    "    # FC layers group\n",
    "    model.add(Dense(4096, activation='relu', name='fc6'))\n",
    "    model.add(Dropout(.5))\n",
    "    model.add(Dense(4096, activation='relu', name='fc7'))\n",
    "    model.add(Dropout(.5))\n",
    "    model.add(Dense(487, activation='softmax', name='fc8'))\n",
    "    \n",
    "\n",
    "    x = Dense(1, activation='linear', name='regression')(model.get_layer('fc7').output)\n",
    "    model2 = Model(inputs=model.input, outputs=x)\n",
    "        \n",
    "    if weight_file is None:\n",
    "        model.load_weights(\"./sports1M_weights_tf.h5\")\n",
    "    else:\n",
    "        model2.load_weights(weight_file)\n",
    "\n",
    "    #print(model2.summary())\n",
    "\n",
    "    return model2\n",
    "\n",
    "# https://github.com/axon-research/c3d-keras/blob/master/models/get_weights_and_mean.sh\n",
    "c3d_mean = np.load('c3d_mean.npy')\n",
    "c3d_mean = np.transpose(c3d_mean, (1, 2, 3, 0))\n"
   ]
  },
  {
   "cell_type": "code",
   "execution_count": 3,
   "metadata": {},
   "outputs": [],
   "source": [
    "# fix weight\n",
    "c3d_model = get_model()\n",
    "for i in range(14):\n",
    "    c3d_model.layers[i].trainable = False\n",
    "optimizer = Nadam()\n",
    "c3d_model.compile(optimizer=optimizer, loss='mean_squared_error')"
   ]
  },
  {
   "cell_type": "code",
   "execution_count": null,
   "metadata": {},
   "outputs": [],
   "source": [
    "class InputGenerator(object):\n",
    "    def __init__(self, X, Y=None, sample_weight=None, mean=None,\n",
    "                shuffle=False, batch_size=32, random_state=None):\n",
    "        self.X = X\n",
    "        self.Y = Y\n",
    "        self.lock = threading.Lock()\n",
    "        if random_state is None:\n",
    "            random_state = np.random.RandomState()\n",
    "        self.index_generator = self._flow_index(X.shape[0], batch_size, shuffle,\n",
    "                random_state)\n",
    "        self.sample_weight = sample_weight\n",
    "        self.mean = mean\n",
    "        self.batch_size = batch_size\n",
    "        \n",
    "    def __len__(self):\n",
    "        return (((self.X.shape[0]-16) - 1) // self.batch_size) + 1\n",
    "\n",
    "    def __iter__(self):\n",
    "        return self\n",
    "\n",
    "    def __next__(self, *args, **kwargs):\n",
    "        return self.next(*args, **kwargs)\n",
    "\n",
    "    def _flow_index(self, n, batch_size, shuffle, random_state):\n",
    "        index = np.arange(8, n-8)\n",
    "        for epoch_i in itertools.count():\n",
    "            if shuffle:\n",
    "                random_state.shuffle(index)\n",
    "            for batch_start in range(8, n-8, batch_size):\n",
    "                batch_end = min(batch_start + batch_size, n)\n",
    "                yield epoch_i, index[batch_start: batch_end]\n",
    "\n",
    "    def next(self):\n",
    "        with self.lock:\n",
    "            _, index_array = next(self.index_generator)\n",
    "        batch_X = []\n",
    "        for i in index_array:\n",
    "            batch_x = self.X[np.arange(i-8, i+8)] - self.mean\n",
    "            img_width, img_height = self.X[0].shape[:2]\n",
    "            #start_y = np.round((img_height - 112) * self.random_state.rand()))\n",
    "            #start_x = np.round((img_width - 112) * self.random_state.rand())\n",
    "            #batch_x = batch_x[:, start_x:(112 - start_x), start_y:(112 - start_y), :]\n",
    "            start_y = (img_height - 112) // 2\n",
    "            start_x = (img_width - 112) // 2\n",
    "            batch_x = batch_x[:, start_x:(112 + start_x), start_y:(112 + start_y), :]\n",
    "            batch_X.append(batch_x)\n",
    "        batch_X = np.array(batch_X, dtype=np.float32)\n",
    "        #print(batch_X.shape)\n",
    "\n",
    "        if self.Y is None:\n",
    "            return batch_X\n",
    "        else:\n",
    "            batch_Y = self.Y[index_array]\n",
    "            if self.sample_weight is not None:\n",
    "                batch_weight = self.sample_weight[index_array]\n",
    "                return batch_X, batch_Y, batch_weight\n",
    "            else:\n",
    "                return batch_X, batch_Y\n",
    "            \n",
    "            \n",
    "def pred_seq(X, model):\n",
    "    generator = InputGenerator(X, mean=c3d_mean, batch_size=batch_size)\n",
    "    pred = model.predict_generator(generator, steps=len(generator), verbose=1)\n",
    "    pred = np.concatenate((np.ones(8)*pred[0][0], pred.reshape(-1), np.ones(8)*pred[-1][0]))\n",
    "    return pred\n",
    "\n",
    "def evaluation(X, y, model):\n",
    "    pred = pred_seq(X, model)\n",
    "    return mean_squared_error(y, pred)"
   ]
  },
  {
   "cell_type": "code",
   "execution_count": null,
   "metadata": {},
   "outputs": [],
   "source": [
    "# load training data\n",
    "X = []\n",
    "for i in range(20400):\n",
    "    img = cv2.imread(join(\"/tmp/frames/train/\", f\"{i+1:08d}.png\"), 1)\n",
    "    X.append(cv2.resize(img, (171, 128)))\n",
    "X = np.array(X, dtype=np.float32)"
   ]
  },
  {
   "cell_type": "code",
   "execution_count": 54,
   "metadata": {},
   "outputs": [
    {
     "name": "stdout",
     "output_type": "stream",
     "text": [
      "Epoch 1/5\n",
      "1124/1124 [==============================] - 396s 352ms/step - loss: 2.7520 - val_loss: 10.1952\n",
      "Epoch 2/5\n"
     ]
    },
    {
     "ename": "ValueError",
     "evalue": "Error when checking input: expected conv1_input to have 5 dimensions, but got array with shape (0, 1)",
     "output_type": "error",
     "traceback": [
      "\u001b[0;31m---------------------------------------------------------------------------\u001b[0m",
      "\u001b[0;31mValueError\u001b[0m                                Traceback (most recent call last)",
      "\u001b[0;32m<ipython-input-54-c2bd4f78ec25>\u001b[0m in \u001b[0;36m<module>\u001b[0;34m\u001b[0m\n\u001b[1;32m     13\u001b[0m                         \u001b[0mepochs\u001b[0m\u001b[0;34m=\u001b[0m\u001b[0;36m5\u001b[0m\u001b[0;34m,\u001b[0m\u001b[0;34m\u001b[0m\u001b[0m\n\u001b[1;32m     14\u001b[0m                         \u001b[0muse_multiprocessing\u001b[0m\u001b[0;34m=\u001b[0m\u001b[0;32mFalse\u001b[0m\u001b[0;34m,\u001b[0m\u001b[0;34m\u001b[0m\u001b[0m\n\u001b[0;32m---> 15\u001b[0;31m                         \u001b[0mcallbacks\u001b[0m\u001b[0;34m=\u001b[0m\u001b[0;34m[\u001b[0m\u001b[0mcheckpoint_callback\u001b[0m\u001b[0;34m]\u001b[0m\u001b[0;34m,\u001b[0m\u001b[0;34m\u001b[0m\u001b[0m\n\u001b[0m\u001b[1;32m     16\u001b[0m                        )\n",
      "\u001b[0;32m/opt/conda/lib/python3.6/site-packages/keras/legacy/interfaces.py\u001b[0m in \u001b[0;36mwrapper\u001b[0;34m(*args, **kwargs)\u001b[0m\n\u001b[1;32m     89\u001b[0m                 warnings.warn('Update your `' + object_name +\n\u001b[1;32m     90\u001b[0m                               '` call to the Keras 2 API: ' + signature, stacklevel=2)\n\u001b[0;32m---> 91\u001b[0;31m             \u001b[0;32mreturn\u001b[0m \u001b[0mfunc\u001b[0m\u001b[0;34m(\u001b[0m\u001b[0;34m*\u001b[0m\u001b[0margs\u001b[0m\u001b[0;34m,\u001b[0m \u001b[0;34m**\u001b[0m\u001b[0mkwargs\u001b[0m\u001b[0;34m)\u001b[0m\u001b[0;34m\u001b[0m\u001b[0m\n\u001b[0m\u001b[1;32m     92\u001b[0m         \u001b[0mwrapper\u001b[0m\u001b[0;34m.\u001b[0m\u001b[0m_original_function\u001b[0m \u001b[0;34m=\u001b[0m \u001b[0mfunc\u001b[0m\u001b[0;34m\u001b[0m\u001b[0m\n\u001b[1;32m     93\u001b[0m         \u001b[0;32mreturn\u001b[0m \u001b[0mwrapper\u001b[0m\u001b[0;34m\u001b[0m\u001b[0m\n",
      "\u001b[0;32m/opt/conda/lib/python3.6/site-packages/keras/engine/training.py\u001b[0m in \u001b[0;36mfit_generator\u001b[0;34m(self, generator, steps_per_epoch, epochs, verbose, callbacks, validation_data, validation_steps, class_weight, max_queue_size, workers, use_multiprocessing, shuffle, initial_epoch)\u001b[0m\n\u001b[1;32m   1413\u001b[0m             \u001b[0muse_multiprocessing\u001b[0m\u001b[0;34m=\u001b[0m\u001b[0muse_multiprocessing\u001b[0m\u001b[0;34m,\u001b[0m\u001b[0;34m\u001b[0m\u001b[0m\n\u001b[1;32m   1414\u001b[0m             \u001b[0mshuffle\u001b[0m\u001b[0;34m=\u001b[0m\u001b[0mshuffle\u001b[0m\u001b[0;34m,\u001b[0m\u001b[0;34m\u001b[0m\u001b[0m\n\u001b[0;32m-> 1415\u001b[0;31m             initial_epoch=initial_epoch)\n\u001b[0m\u001b[1;32m   1416\u001b[0m \u001b[0;34m\u001b[0m\u001b[0m\n\u001b[1;32m   1417\u001b[0m     \u001b[0;34m@\u001b[0m\u001b[0minterfaces\u001b[0m\u001b[0;34m.\u001b[0m\u001b[0mlegacy_generator_methods_support\u001b[0m\u001b[0;34m\u001b[0m\u001b[0m\n",
      "\u001b[0;32m/opt/conda/lib/python3.6/site-packages/keras/engine/training_generator.py\u001b[0m in \u001b[0;36mfit_generator\u001b[0;34m(model, generator, steps_per_epoch, epochs, verbose, callbacks, validation_data, validation_steps, class_weight, max_queue_size, workers, use_multiprocessing, shuffle, initial_epoch)\u001b[0m\n\u001b[1;32m    211\u001b[0m                 outs = model.train_on_batch(x, y,\n\u001b[1;32m    212\u001b[0m                                             \u001b[0msample_weight\u001b[0m\u001b[0;34m=\u001b[0m\u001b[0msample_weight\u001b[0m\u001b[0;34m,\u001b[0m\u001b[0;34m\u001b[0m\u001b[0m\n\u001b[0;32m--> 213\u001b[0;31m                                             class_weight=class_weight)\n\u001b[0m\u001b[1;32m    214\u001b[0m \u001b[0;34m\u001b[0m\u001b[0m\n\u001b[1;32m    215\u001b[0m                 \u001b[0mouts\u001b[0m \u001b[0;34m=\u001b[0m \u001b[0mto_list\u001b[0m\u001b[0;34m(\u001b[0m\u001b[0mouts\u001b[0m\u001b[0;34m)\u001b[0m\u001b[0;34m\u001b[0m\u001b[0m\n",
      "\u001b[0;32m/opt/conda/lib/python3.6/site-packages/keras/engine/training.py\u001b[0m in \u001b[0;36mtrain_on_batch\u001b[0;34m(self, x, y, sample_weight, class_weight)\u001b[0m\n\u001b[1;32m   1207\u001b[0m             \u001b[0mx\u001b[0m\u001b[0;34m,\u001b[0m \u001b[0my\u001b[0m\u001b[0;34m,\u001b[0m\u001b[0;34m\u001b[0m\u001b[0m\n\u001b[1;32m   1208\u001b[0m             \u001b[0msample_weight\u001b[0m\u001b[0;34m=\u001b[0m\u001b[0msample_weight\u001b[0m\u001b[0;34m,\u001b[0m\u001b[0;34m\u001b[0m\u001b[0m\n\u001b[0;32m-> 1209\u001b[0;31m             class_weight=class_weight)\n\u001b[0m\u001b[1;32m   1210\u001b[0m         \u001b[0;32mif\u001b[0m \u001b[0mself\u001b[0m\u001b[0;34m.\u001b[0m\u001b[0m_uses_dynamic_learning_phase\u001b[0m\u001b[0;34m(\u001b[0m\u001b[0;34m)\u001b[0m\u001b[0;34m:\u001b[0m\u001b[0;34m\u001b[0m\u001b[0m\n\u001b[1;32m   1211\u001b[0m             \u001b[0mins\u001b[0m \u001b[0;34m=\u001b[0m \u001b[0mx\u001b[0m \u001b[0;34m+\u001b[0m \u001b[0my\u001b[0m \u001b[0;34m+\u001b[0m \u001b[0msample_weights\u001b[0m \u001b[0;34m+\u001b[0m \u001b[0;34m[\u001b[0m\u001b[0;36m1.\u001b[0m\u001b[0;34m]\u001b[0m\u001b[0;34m\u001b[0m\u001b[0m\n",
      "\u001b[0;32m/opt/conda/lib/python3.6/site-packages/keras/engine/training.py\u001b[0m in \u001b[0;36m_standardize_user_data\u001b[0;34m(self, x, y, sample_weight, class_weight, check_array_lengths, batch_size)\u001b[0m\n\u001b[1;32m    747\u001b[0m             \u001b[0mfeed_input_shapes\u001b[0m\u001b[0;34m,\u001b[0m\u001b[0;34m\u001b[0m\u001b[0m\n\u001b[1;32m    748\u001b[0m             \u001b[0mcheck_batch_axis\u001b[0m\u001b[0;34m=\u001b[0m\u001b[0;32mFalse\u001b[0m\u001b[0;34m,\u001b[0m  \u001b[0;31m# Don't enforce the batch size.\u001b[0m\u001b[0;34m\u001b[0m\u001b[0m\n\u001b[0;32m--> 749\u001b[0;31m             exception_prefix='input')\n\u001b[0m\u001b[1;32m    750\u001b[0m \u001b[0;34m\u001b[0m\u001b[0m\n\u001b[1;32m    751\u001b[0m         \u001b[0;32mif\u001b[0m \u001b[0my\u001b[0m \u001b[0;32mis\u001b[0m \u001b[0;32mnot\u001b[0m \u001b[0;32mNone\u001b[0m\u001b[0;34m:\u001b[0m\u001b[0;34m\u001b[0m\u001b[0m\n",
      "\u001b[0;32m/opt/conda/lib/python3.6/site-packages/keras/engine/training_utils.py\u001b[0m in \u001b[0;36mstandardize_input_data\u001b[0;34m(data, names, shapes, check_batch_axis, exception_prefix)\u001b[0m\n\u001b[1;32m    125\u001b[0m                         \u001b[0;34m': expected '\u001b[0m \u001b[0;34m+\u001b[0m \u001b[0mnames\u001b[0m\u001b[0;34m[\u001b[0m\u001b[0mi\u001b[0m\u001b[0;34m]\u001b[0m \u001b[0;34m+\u001b[0m \u001b[0;34m' to have '\u001b[0m \u001b[0;34m+\u001b[0m\u001b[0;34m\u001b[0m\u001b[0m\n\u001b[1;32m    126\u001b[0m                         \u001b[0mstr\u001b[0m\u001b[0;34m(\u001b[0m\u001b[0mlen\u001b[0m\u001b[0;34m(\u001b[0m\u001b[0mshape\u001b[0m\u001b[0;34m)\u001b[0m\u001b[0;34m)\u001b[0m \u001b[0;34m+\u001b[0m \u001b[0;34m' dimensions, but got array '\u001b[0m\u001b[0;34m\u001b[0m\u001b[0m\n\u001b[0;32m--> 127\u001b[0;31m                         'with shape ' + str(data_shape))\n\u001b[0m\u001b[1;32m    128\u001b[0m                 \u001b[0;32mif\u001b[0m \u001b[0;32mnot\u001b[0m \u001b[0mcheck_batch_axis\u001b[0m\u001b[0;34m:\u001b[0m\u001b[0;34m\u001b[0m\u001b[0m\n\u001b[1;32m    129\u001b[0m                     \u001b[0mdata_shape\u001b[0m \u001b[0;34m=\u001b[0m \u001b[0mdata_shape\u001b[0m\u001b[0;34m[\u001b[0m\u001b[0;36m1\u001b[0m\u001b[0;34m:\u001b[0m\u001b[0;34m]\u001b[0m\u001b[0;34m\u001b[0m\u001b[0m\n",
      "\u001b[0;31mValueError\u001b[0m: Error when checking input: expected conv1_input to have 5 dimensions, but got array with shape (0, 1)"
     ]
    }
   ],
   "source": [
    "batch_size = 16\n",
    "trn_gen = InputGenerator(X[:18000], y[:18000], mean=c3d_mean, batch_size=batch_size, shuffle=True)\n",
    "val_gen = InputGenerator(X[18000:], y[18000:], mean=c3d_mean, batch_size=batch_size)\n",
    "\n",
    "checkpoint_callback = ModelCheckpoint(\"./weights/c3d-{epoch:02d}-{val_loss:.2f}.hdf5\")\n",
    "\n",
    "c3d_model.fit_generator(trn_gen,\n",
    "                        steps_per_epoch=len(trn_gen),\n",
    "                        validation_data=val_gen,\n",
    "                        validation_steps=len(val_gen),\n",
    "                        max_queue_size=50,\n",
    "                        workers=6,\n",
    "                        epochs=5,\n",
    "                        use_multiprocessing=False,\n",
    "                        callbacks=[checkpoint_callback],\n",
    "                       )"
   ]
  },
  {
   "cell_type": "code",
   "execution_count": 55,
   "metadata": {},
   "outputs": [
    {
     "name": "stdout",
     "output_type": "stream",
     "text": [
      "1124/1124 [==============================] - 308s 274ms/step\n",
      "trn err:  40.09566379024576\n",
      "149/149 [==============================] - 41s 275ms/step\n",
      "val err:  10.128267973933534\n"
     ]
    }
   ],
   "source": [
    "print(\"trn err: \", evaluation(X[:18000], y[:18000]))\n",
    "print(\"val err: \", evaluation(X[18000:], y[18000:]))"
   ]
  },
  {
   "cell_type": "code",
   "execution_count": 9,
   "metadata": {},
   "outputs": [],
   "source": [
    "# finetune with smaller learning rate\n",
    "gc.collect()\n",
    "K.clear_session()\n",
    "c3d_model = get_model(\"./weights/c3d\")\n",
    "\n",
    "for i in range(14):\n",
    "    c3d_model.layers[i].trainable = True\n",
    "optimizer = Adam(lr=1e-8)\n",
    "c3d_model.compile(optimizer=optimizer, loss='mean_squared_error')"
   ]
  },
  {
   "cell_type": "code",
   "execution_count": null,
   "metadata": {},
   "outputs": [
    {
     "name": "stdout",
     "output_type": "stream",
     "text": [
      "Epoch 1/5\n",
      " 967/1124 [========================>.....] - ETA: 2:08 - loss: 2.9334"
     ]
    }
   ],
   "source": [
    "batch_size = 16\n",
    "trn_gen = InputGenerator(X[:18000], y[:18000], mean=c3d_mean, batch_size=batch_size, shuffle=True)\n",
    "val_gen = InputGenerator(X[18000:], y[18000:], mean=c3d_mean, batch_size=batch_size)\n",
    "\n",
    "checkpoint_callback = ModelCheckpoint(\"./weights/c3d_fintune-{epoch:02d}-{val_loss:.2f}.hdf5\")\n",
    "\n",
    "c3d_model.fit_generator(trn_gen,\n",
    "                        steps_per_epoch=len(trn_gen),\n",
    "                        validation_data=val_gen,\n",
    "                        validation_steps=len(val_gen),\n",
    "                        max_queue_size=50,\n",
    "                        workers=6,\n",
    "                        epochs=5,\n",
    "                        use_multiprocessing=False,\n",
    "                        callbacks=[checkpoint_callback],\n",
    "                       )"
   ]
  },
  {
   "cell_type": "code",
   "execution_count": 70,
   "metadata": {},
   "outputs": [],
   "source": [
    "pred_trn = pred_seq(X[:18000], model)\n",
    "pred_val = pred_seq(X[18000:], model)\n",
    "\n",
    "print(\"trn err: \", mean_squared_error(y[:18000], pred_trn))\n",
    "print(\"val err: \", mean_squared_error(y[18000:], pred_val))"
   ]
  },
  {
   "cell_type": "code",
   "execution_count": 71,
   "metadata": {},
   "outputs": [
    {
     "ename": "KeyboardInterrupt",
     "evalue": "",
     "output_type": "error",
     "traceback": [
      "\u001b[0;31m---------------------------------------------------------------------------\u001b[0m",
      "\u001b[0;31mKeyboardInterrupt\u001b[0m                         Traceback (most recent call last)",
      "\u001b[0;32m<ipython-input-71-90028e535ee9>\u001b[0m in \u001b[0;36m<module>\u001b[0;34m\u001b[0m\n\u001b[1;32m      1\u001b[0m \u001b[0mtstX\u001b[0m \u001b[0;34m=\u001b[0m \u001b[0;34m[\u001b[0m\u001b[0;34m]\u001b[0m\u001b[0;34m\u001b[0m\u001b[0m\n\u001b[1;32m      2\u001b[0m \u001b[0;32mfor\u001b[0m \u001b[0mi\u001b[0m \u001b[0;32min\u001b[0m \u001b[0mrange\u001b[0m\u001b[0;34m(\u001b[0m\u001b[0;36m20400\u001b[0m\u001b[0;34m)\u001b[0m\u001b[0;34m:\u001b[0m\u001b[0;34m\u001b[0m\u001b[0m\n\u001b[0;32m----> 3\u001b[0;31m     \u001b[0mimg\u001b[0m \u001b[0;34m=\u001b[0m \u001b[0mcv2\u001b[0m\u001b[0;34m.\u001b[0m\u001b[0mimread\u001b[0m\u001b[0;34m(\u001b[0m\u001b[0mjoin\u001b[0m\u001b[0;34m(\u001b[0m\u001b[0;34m\"/tmp/frames/train/\"\u001b[0m\u001b[0;34m,\u001b[0m \u001b[0;34mf\"{i+1:08d}.png\"\u001b[0m\u001b[0;34m)\u001b[0m\u001b[0;34m,\u001b[0m \u001b[0;36m1\u001b[0m\u001b[0;34m)\u001b[0m\u001b[0;34m\u001b[0m\u001b[0m\n\u001b[0m\u001b[1;32m      4\u001b[0m     \u001b[0mtstX\u001b[0m\u001b[0;34m.\u001b[0m\u001b[0mappend\u001b[0m\u001b[0;34m(\u001b[0m\u001b[0mcv2\u001b[0m\u001b[0;34m.\u001b[0m\u001b[0mresize\u001b[0m\u001b[0;34m(\u001b[0m\u001b[0mimg\u001b[0m\u001b[0;34m,\u001b[0m \u001b[0;34m(\u001b[0m\u001b[0;36m171\u001b[0m\u001b[0;34m,\u001b[0m \u001b[0;36m128\u001b[0m\u001b[0;34m)\u001b[0m\u001b[0;34m)\u001b[0m\u001b[0;34m)\u001b[0m\u001b[0;34m\u001b[0m\u001b[0m\n\u001b[1;32m      5\u001b[0m \u001b[0mtstX\u001b[0m \u001b[0;34m=\u001b[0m \u001b[0mnp\u001b[0m\u001b[0;34m.\u001b[0m\u001b[0marray\u001b[0m\u001b[0;34m(\u001b[0m\u001b[0mtstX\u001b[0m\u001b[0;34m,\u001b[0m \u001b[0mdtype\u001b[0m\u001b[0;34m=\u001b[0m\u001b[0mnp\u001b[0m\u001b[0;34m.\u001b[0m\u001b[0mfloat32\u001b[0m\u001b[0;34m)\u001b[0m\u001b[0;34m\u001b[0m\u001b[0m\n",
      "\u001b[0;31mKeyboardInterrupt\u001b[0m: "
     ]
    }
   ],
   "source": [
    "tstX = []\n",
    "for i in range(20400):\n",
    "    img = cv2.imread(join(\"/tmp/frames/test/\", f\"{i+1:08d}.png\"), 1)\n",
    "    tstX.append(cv2.resize(img, (171, 128)))\n",
    "tstX = np.array(tstX, dtype=np.float32)\n",
    "\n",
    "pred_tsty = pred_seq(tstX, c3dmodel)\n",
    "with open(\"test.txt\", \"w\") as f:\n",
    "    f.write(\"\\n\".join([str(_) for _ in pred_tsty]))"
   ]
  }
 ],
 "metadata": {
  "kernelspec": {
   "display_name": "Python 3",
   "language": "python",
   "name": "python3"
  },
  "language_info": {
   "codemirror_mode": {
    "name": "ipython",
    "version": 3
   },
   "file_extension": ".py",
   "mimetype": "text/x-python",
   "name": "python",
   "nbconvert_exporter": "python",
   "pygments_lexer": "ipython3",
   "version": "3.6.6"
  }
 },
 "nbformat": 4,
 "nbformat_minor": 2
}
